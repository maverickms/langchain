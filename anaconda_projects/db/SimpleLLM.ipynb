{
 "cells": [
  {
   "cell_type": "code",
   "execution_count": null,
   "id": "6c447ee7-6686-407d-b93c-c50a176f0a71",
   "metadata": {
    "scrolled": true
   },
   "outputs": [],
   "source": [
    "#pip install langchain[ollama]"
   ]
  },
  {
   "cell_type": "code",
   "execution_count": 33,
   "id": "2b572ec8-4654-4d5d-910f-ebce9a2f604a",
   "metadata": {},
   "outputs": [],
   "source": [
    "from langchain_core.prompts import ChatPromptTemplate\n",
    "from langchain_ollama.llms import OllamaLLM"
   ]
  },
  {
   "cell_type": "code",
   "execution_count": 35,
   "id": "a9a432c6-ba27-4dcc-a202-dd442e3fb4ef",
   "metadata": {},
   "outputs": [
    {
     "data": {
      "text/plain": [
       "\"LangChain is an open-source, JavaScript-based protocol for creating decentralized applications (dApps) on the Ethereum blockchain.\\n\\nTo better understand LangChain, let's break it down into its core components:\\n\\n1. **Decentralized Data Storage**: LangChain provides a scalable and secure way to store and manage data in a decentralized manner.\\n2. **Smart Contract Automation**: LangChain allows developers to automate smart contract interactions, making it easier to build complex dApps.\\n3. **DApp Building Framework**: LangChain offers a comprehensive framework for building dApps, including tools for creating user interfaces, managing interactions with the blockchain, and deploying applications.\\n\\nBy leveraging LangChain, developers can focus on building innovative dApps without worrying about the underlying infrastructure.\\n\\nWould you like me to elaborate on any of these points or provide more information on how LangChain is used in practice?\""
      ]
     },
     "execution_count": 35,
     "metadata": {},
     "output_type": "execute_result"
    }
   ],
   "source": [
    "template = \"\"\"Question: {question}\n",
    "\n",
    "Answer: Let's think step by step.\"\"\"\n",
    "\n",
    "prompt = ChatPromptTemplate.from_template(template)\n",
    "\n",
    "model = OllamaLLM(model=\"llama3.2\")\n",
    "\n",
    "chain = prompt | model\n",
    "\n",
    "chain.invoke({\"question\": \"What is LangChain?\"})"
   ]
  },
  {
   "cell_type": "code",
   "execution_count": null,
   "id": "967cfdb4-549f-4c9b-b84c-214b1bd46323",
   "metadata": {
    "scrolled": true
   },
   "outputs": [],
   "source": [
    "#pip install langchain-ollama"
   ]
  },
  {
   "cell_type": "code",
   "execution_count": 37,
   "id": "d220a52c-edc1-4ac5-9848-1e42bdc11a71",
   "metadata": {},
   "outputs": [],
   "source": [
    "from langchain.chat_models import init_chat_model\n",
    "\n",
    "model = init_chat_model(\"llama3.2\", model_provider=\"ollama\")"
   ]
  },
  {
   "cell_type": "code",
   "execution_count": 39,
   "id": "d253abef-5e9f-4048-8646-80c3318ff44f",
   "metadata": {},
   "outputs": [
    {
     "name": "stdout",
     "output_type": "stream",
     "text": [
      "<class 'langchain_core.messages.ai.AIMessage'>\n",
      "Ciao! Come posso aiutarti oggi?\n"
     ]
    }
   ],
   "source": [
    "from langchain_core.messages import HumanMessage, SystemMessage\n",
    "\n",
    "messages = [\n",
    "    SystemMessage(\"Translate the following from English into Italian\"),\n",
    "    HumanMessage(\"hi!\"),\n",
    "]\n",
    "\n",
    "res = model.invoke(messages)\n",
    "print(type(res))\n",
    "print(res.content)"
   ]
  },
  {
   "cell_type": "code",
   "execution_count": 41,
   "id": "15be77da-ebd9-4233-aae3-b54c4afbf080",
   "metadata": {},
   "outputs": [
    {
     "name": "stdout",
     "output_type": "stream",
     "text": [
      "C|iao|!| Come| pos|so| ai|ut|arti| oggi|?||"
     ]
    }
   ],
   "source": [
    "for token in model.stream(messages):\n",
    "    print(token.content, end=\"|\")"
   ]
  },
  {
   "cell_type": "code",
   "execution_count": 43,
   "id": "3b6473e5-bddc-4cc4-898f-31f899ceb657",
   "metadata": {},
   "outputs": [],
   "source": [
    "system_template = \"Translate the following from English into {language}\"\n",
    "\n",
    "prompt_template = ChatPromptTemplate.from_messages(\n",
    "    [(\"system\", system_template), (\"user\", \"{text}\")]\n",
    ")"
   ]
  },
  {
   "cell_type": "code",
   "execution_count": 59,
   "id": "6f46f392-596c-45aa-be91-a96856cc8a5a",
   "metadata": {},
   "outputs": [
    {
     "data": {
      "text/plain": [
       "[SystemMessage(content='Translate the following from English into sanskrit', additional_kwargs={}, response_metadata={}),\n",
       " HumanMessage(content='hi!', additional_kwargs={}, response_metadata={})]"
      ]
     },
     "execution_count": 59,
     "metadata": {},
     "output_type": "execute_result"
    }
   ],
   "source": [
    "prompt = prompt_template.invoke({\"language\": \"sanskrit\", \"text\": \"hi!\"})\n",
    "\n",
    "prompt.to_messages()"
   ]
  },
  {
   "cell_type": "code",
   "execution_count": 61,
   "id": "54ed2521-9f7d-4304-81b1-b07a77368f12",
   "metadata": {},
   "outputs": [
    {
     "name": "stdout",
     "output_type": "stream",
     "text": [
      "नमस्ते ! (Namaste!)\n"
     ]
    }
   ],
   "source": [
    "response = model.invoke(prompt)\n",
    "print(response.content)"
   ]
  },
  {
   "cell_type": "code",
   "execution_count": null,
   "id": "c3cbfa2b-369b-4004-b2c4-f59d2bd18f38",
   "metadata": {},
   "outputs": [],
   "source": []
  }
 ],
 "metadata": {
  "kernelspec": {
   "display_name": "Python [conda env:base] *",
   "language": "python",
   "name": "conda-base-py"
  },
  "language_info": {
   "codemirror_mode": {
    "name": "ipython",
    "version": 3
   },
   "file_extension": ".py",
   "mimetype": "text/x-python",
   "name": "python",
   "nbconvert_exporter": "python",
   "pygments_lexer": "ipython3",
   "version": "3.12.7"
  }
 },
 "nbformat": 4,
 "nbformat_minor": 5
}
